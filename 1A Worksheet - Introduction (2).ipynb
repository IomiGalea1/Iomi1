{
 "cells": [
  {
   "cell_type": "markdown",
   "metadata": {
    "id": "H7syqBE3SBdT",
    "pycharm": {
     "name": "#%% md\n"
    }
   },
   "source": [
    "# Worksheet 1A: Strings & Integers\n",
    "\n",
    "Welcome to our weekly worksheets :)\n",
    "\n",
    "As you can see the worksheet are Jupyter Notebooks which you will be expected to download, fill in, & submit to VLE.\n",
    "\n",
    "Remember, you are EXPECTED to make thorough use of Python documentation to solve the worksheets, especially as things get a bit more challenging. The first ones should be easy-peasy :)"
   ]
  },
  {
   "cell_type": "markdown",
   "metadata": {
    "id": "uShLF_pxSBdc",
    "pycharm": {
     "name": "#%% md\n"
    }
   },
   "source": [
    "---\n",
    "## Q1\n",
    "\n",
    "When printing a string it should be surrounded with quotation marks. Either `\"` or `'` will work:"
   ]
  },
  {
   "cell_type": "code",
   "execution_count": null,
   "metadata": {
    "id": "lJk2n8WYSBdi",
    "pycharm": {
     "name": "#%%\n"
    }
   },
   "outputs": [],
   "source": [
    "# test is printed\n",
    "print(\"test\")"
   ]
  },
  {
   "cell_type": "markdown",
   "metadata": {
    "id": "h0zQbYelSBdn",
    "pycharm": {
     "name": "#%% md\n"
    }
   },
   "source": [
    "### Q1 a\n",
    "\n",
    "What happens if you leave out one of the quotation marks?"
   ]
  },
  {
   "cell_type": "code",
   "execution_count": null,
   "metadata": {
    "answer_type": "output",
    "id": "1a",
    "marks": 1,
    "pycharm": {
     "name": "#%%\n"
    },
    "tags": [
     "answer"
    ]
   },
   "outputs": [],
   "source": [
    "# answer:\n"
   ]
  },
  {
   "cell_type": "markdown",
   "metadata": {
    "id": "lGyOCYFYSBdv",
    "pycharm": {
     "name": "#%% md\n"
    }
   },
   "source": [
    "### Q1 b\n",
    "\n",
    "What error do you get if you leave out both the quotation marks?"
   ]
  },
  {
   "cell_type": "code",
   "execution_count": null,
   "metadata": {
    "answer_type": "output",
    "id": "1b",
    "marks": 1,
    "pycharm": {
     "name": "#%%\n"
    },
    "tags": [
     "answer"
    ]
   },
   "outputs": [],
   "source": [
    "# answer:\n"
   ]
  },
  {
   "cell_type": "markdown",
   "metadata": {
    "id": "3jGxl1sISBd1",
    "pycharm": {
     "name": "#%% md\n"
    }
   },
   "source": [
    "---\n",
    "## Q2\n",
    "\n",
    "You can use a minus sign to make a negative number like so:"
   ]
  },
  {
   "cell_type": "code",
   "execution_count": null,
   "metadata": {
    "id": "gcq53g8WSBd4",
    "pycharm": {
     "name": "#%%\n"
    }
   },
   "outputs": [],
   "source": [
    "-2"
   ]
  },
  {
   "cell_type": "markdown",
   "metadata": {
    "id": "crSRVeDOSBeA",
    "pycharm": {
     "name": "#%% md\n"
    }
   },
   "source": [
    " What happens if you put a `+` sign before a number? Like so:"
   ]
  },
  {
   "cell_type": "code",
   "execution_count": 1,
   "metadata": {
    "id": "12s4zkO3SBeD",
    "pycharm": {
     "name": "#%%\n"
    }
   },
   "outputs": [
    {
     "data": {
      "text/plain": [
       "2"
      ]
     },
     "execution_count": 1,
     "metadata": {},
     "output_type": "execute_result"
    }
   ],
   "source": [
    "+2"
   ]
  },
  {
   "cell_type": "markdown",
   "metadata": {
    "id": "iMJWbPJjSBeI",
    "pycharm": {
     "name": "#%% md\n"
    }
   },
   "source": [
    "And what happens when you put multiple `+` signs between two values?"
   ]
  },
  {
   "cell_type": "code",
   "execution_count": 2,
   "metadata": {
    "id": "CSXvNkJFSBeM",
    "pycharm": {
     "name": "#%%\n"
    }
   },
   "outputs": [
    {
     "data": {
      "text/plain": [
       "4"
      ]
     },
     "execution_count": 2,
     "metadata": {},
     "output_type": "execute_result"
    }
   ],
   "source": [
    "2++2"
   ]
  },
  {
   "cell_type": "code",
   "execution_count": 3,
   "metadata": {
    "id": "-g-7Kn6MSBeP",
    "pycharm": {
     "name": "#%%\n"
    }
   },
   "outputs": [
    {
     "data": {
      "text/plain": [
       "5"
      ]
     },
     "execution_count": 3,
     "metadata": {},
     "output_type": "execute_result"
    }
   ],
   "source": [
    "2++++3"
   ]
  },
  {
   "cell_type": "markdown",
   "metadata": {
    "id": "2",
    "marks": 1,
    "pycharm": {
     "name": "#%% md\n"
    },
    "tags": [
     "answer"
    ]
   },
   "source": [
    "*answer:*\n"
   ]
  },
  {
   "cell_type": "markdown",
   "metadata": {
    "id": "-d1XCQFdSBeS",
    "pycharm": {
     "name": "#%% md\n"
    }
   },
   "source": [
    "---\n",
    "## Q3"
   ]
  },
  {
   "cell_type": "markdown",
   "metadata": {
    "id": "gDvGdl-5SBeT",
    "pycharm": {
     "name": "#%% md\n"
    }
   },
   "source": [
    "### Q3 a\n",
    "\n",
    "In math notation, leading zeros are ok, like `011`. What happens if you try this in Python?"
   ]
  },
  {
   "cell_type": "code",
   "execution_count": null,
   "metadata": {
    "answer_type": "output",
    "id": "3a",
    "marks": 1,
    "pycharm": {
     "name": "#%%\n"
    },
    "tags": [
     "answer"
    ]
   },
   "outputs": [],
   "source": [
    "# answer:\n"
   ]
  },
  {
   "cell_type": "markdown",
   "metadata": {
    "id": "cidga4PxSBeX"
   },
   "source": [
    "What is this error about?"
   ]
  },
  {
   "cell_type": "markdown",
   "metadata": {
    "id": "5Go6tFc0SBeY",
    "pycharm": {
     "name": "#%% md\n"
    }
   },
   "source": [
    "### Q3 b\n",
    "\n",
    "Try out the following statements:"
   ]
  },
  {
   "cell_type": "code",
   "execution_count": null,
   "metadata": {
    "id": "4WY0hEJXSBea",
    "pycharm": {
     "name": "#%%\n"
    }
   },
   "outputs": [],
   "source": [
    "0x011"
   ]
  },
  {
   "cell_type": "code",
   "execution_count": null,
   "metadata": {
    "id": "GXDgvRQsSBed",
    "pycharm": {
     "name": "#%%\n"
    }
   },
   "outputs": [],
   "source": [
    "0o011"
   ]
  },
  {
   "cell_type": "code",
   "execution_count": null,
   "metadata": {
    "id": "VFH4WrY-SBef",
    "pycharm": {
     "name": "#%%\n"
    }
   },
   "outputs": [],
   "source": [
    "0b11"
   ]
  },
  {
   "cell_type": "markdown",
   "metadata": {
    "id": "6uWJDXyySBek",
    "pycharm": {
     "name": "#%% md\n"
    }
   },
   "source": [
    "Explain the outputs:"
   ]
  },
  {
   "cell_type": "markdown",
   "metadata": {
    "id": "3b",
    "marks": 2,
    "pycharm": {
     "name": "#%% md\n"
    },
    "tags": [
     "answer"
    ]
   },
   "source": [
    "*answer:*\n"
   ]
  },
  {
   "cell_type": "markdown",
   "metadata": {
    "id": "w6dijIv6SBen",
    "pycharm": {
     "name": "#%% md\n"
    }
   },
   "source": [
    "---\n",
    "## Q4\n",
    "\n",
    "What happens if you have two values with no operator between them (just a space)?"
   ]
  },
  {
   "cell_type": "code",
   "execution_count": 4,
   "metadata": {
    "answer_type": "output",
    "id": "4",
    "marks": 1,
    "pycharm": {
     "name": "#%%\n"
    },
    "tags": [
     "answer"
    ]
   },
   "outputs": [
    {
     "ename": "SyntaxError",
     "evalue": "invalid syntax (2644832002.py, line 2)",
     "output_type": "error",
     "traceback": [
      "\u001b[1;36m  Cell \u001b[1;32mIn[4], line 2\u001b[1;36m\u001b[0m\n\u001b[1;33m    1 1\u001b[0m\n\u001b[1;37m      ^\u001b[0m\n\u001b[1;31mSyntaxError\u001b[0m\u001b[1;31m:\u001b[0m invalid syntax\n"
     ]
    }
   ],
   "source": [
    "# answer:\n"
   ]
  },
  {
   "cell_type": "markdown",
   "metadata": {
    "id": "sqq_NHadSBer",
    "pycharm": {
     "name": "#%% md\n"
    }
   },
   "source": [
    "---\n",
    "## Q5\n",
    "\n",
    "Using Python code, calculate how many seconds are there in 42 minutes 42 seconds:"
   ]
  },
  {
   "cell_type": "code",
   "execution_count": null,
   "metadata": {
    "id": "5",
    "marks": 1,
    "pycharm": {
     "name": "#%%\n"
    },
    "tags": [
     "answer"
    ]
   },
   "outputs": [],
   "source": [
    "# answer:\n"
   ]
  },
  {
   "cell_type": "markdown",
   "metadata": {
    "id": "KprKZuJlSBeu",
    "pycharm": {
     "name": "#%% md\n"
    }
   },
   "source": [
    "---\n",
    "## Q6\n",
    "\n",
    "Given that there are 1.61 kilometres in a mile, use Python code to calculate how many miles are there in 10 kilometres:"
   ]
  },
  {
   "cell_type": "code",
   "execution_count": null,
   "metadata": {
    "id": "6",
    "marks": 1,
    "pycharm": {
     "name": "#%%\n"
    },
    "tags": [
     "answer"
    ]
   },
   "outputs": [],
   "source": [
    "# answer:\n"
   ]
  },
  {
   "cell_type": "markdown",
   "metadata": {
    "id": "NQfdoc32SBey",
    "pycharm": {
     "name": "#%% md\n"
    }
   },
   "source": [
    "---\n",
    "## Q7\n",
    "\n",
    "What are the following operators? Experiment with different numbers to understand what's happening."
   ]
  },
  {
   "cell_type": "markdown",
   "metadata": {
    "id": "DsDxGFzOSBe0",
    "pycharm": {
     "name": "#%% md\n"
    }
   },
   "source": [
    "### Q7 a"
   ]
  },
  {
   "cell_type": "code",
   "execution_count": null,
   "metadata": {
    "id": "5gapAI5ISBe1",
    "pycharm": {
     "name": "#%%\n"
    }
   },
   "outputs": [],
   "source": [
    "7//4"
   ]
  },
  {
   "cell_type": "markdown",
   "metadata": {
    "id": "7a",
    "marks": 1,
    "pycharm": {
     "name": "#%% md\n"
    },
    "tags": [
     "answer"
    ]
   },
   "source": [
    "*answer:*\n"
   ]
  },
  {
   "cell_type": "markdown",
   "metadata": {
    "id": "L3jA8OwOSBe4",
    "pycharm": {
     "name": "#%% md\n"
    }
   },
   "source": [
    "### Q7 b"
   ]
  },
  {
   "cell_type": "code",
   "execution_count": null,
   "metadata": {
    "id": "ikAPDemASBe5",
    "pycharm": {
     "name": "#%%\n"
    }
   },
   "outputs": [],
   "source": [
    "7%4"
   ]
  },
  {
   "cell_type": "markdown",
   "metadata": {
    "id": "7b",
    "marks": 1,
    "pycharm": {
     "name": "#%% md\n"
    },
    "tags": [
     "answer"
    ]
   },
   "source": [
    "*answer:*\n"
   ]
  },
  {
   "cell_type": "markdown",
   "metadata": {
    "id": "d-7H1ePOSBe9",
    "pycharm": {
     "name": "#%% md\n"
    }
   },
   "source": [
    "### Q7 c"
   ]
  },
  {
   "cell_type": "code",
   "execution_count": null,
   "metadata": {
    "id": "sHSN3QWgSBe_",
    "pycharm": {
     "name": "#%%\n"
    }
   },
   "outputs": [],
   "source": [
    "2**3"
   ]
  },
  {
   "cell_type": "markdown",
   "metadata": {
    "id": "7c",
    "marks": 1,
    "pycharm": {
     "name": "#%% md\n"
    },
    "tags": [
     "answer"
    ]
   },
   "source": [
    "*answer:*\n"
   ]
  },
  {
   "cell_type": "markdown",
   "metadata": {
    "id": "JFRpSlwcSBfC",
    "pycharm": {
     "name": "#%% md\n"
    }
   },
   "source": [
    "---\n",
    "## Q8"
   ]
  },
  {
   "cell_type": "markdown",
   "metadata": {
    "id": "LGHViWavSBfD",
    "pycharm": {
     "name": "#%% md\n"
    }
   },
   "source": [
    "### Q8 a\n",
    "\n",
    "What happens when Python executes the following statement:"
   ]
  },
  {
   "cell_type": "code",
   "execution_count": null,
   "metadata": {
    "id": "vHTGFLuoSBfF",
    "pycharm": {
     "name": "#%%\n"
    }
   },
   "outputs": [],
   "source": [
    "a = 5"
   ]
  },
  {
   "cell_type": "markdown",
   "metadata": {
    "id": "8a",
    "marks": 1,
    "pycharm": {
     "name": "#%% md\n"
    },
    "tags": [
     "answer"
    ]
   },
   "source": [
    "*answer:*\n"
   ]
  },
  {
   "cell_type": "markdown",
   "metadata": {
    "id": "1VN4dICBSBfK",
    "pycharm": {
     "name": "#%% md\n"
    }
   },
   "source": [
    "### Q8 b\n",
    "\n",
    "If you execute the following statement:"
   ]
  },
  {
   "cell_type": "code",
   "execution_count": null,
   "metadata": {
    "id": "t6T3_Qk8SBfL",
    "pycharm": {
     "name": "#%%\n"
    }
   },
   "outputs": [],
   "source": [
    "a + a"
   ]
  },
  {
   "cell_type": "markdown",
   "metadata": {
    "id": "XssceIrNSBfN",
    "pycharm": {
     "name": "#%% md\n"
    }
   },
   "source": [
    "Print the value of `a` to check its value. Is this what you expect?"
   ]
  },
  {
   "cell_type": "code",
   "execution_count": null,
   "metadata": {
    "answer_type": "output",
    "id": "8b",
    "marks": 1,
    "pycharm": {
     "name": "#%%\n"
    },
    "tags": [
     "answer"
    ]
   },
   "outputs": [],
   "source": [
    "# answer:\n"
   ]
  },
  {
   "cell_type": "markdown",
   "metadata": {
    "id": "xsd3g-SnSBfS",
    "pycharm": {
     "name": "#%% md\n"
    }
   },
   "source": [
    "### Q8 c\n",
    "\n",
    "What is the value of `a` after the following statement:"
   ]
  },
  {
   "cell_type": "code",
   "execution_count": null,
   "metadata": {
    "id": "B0hh345dSBfU",
    "pycharm": {
     "name": "#%%\n"
    }
   },
   "outputs": [],
   "source": [
    "a = a + a"
   ]
  },
  {
   "cell_type": "code",
   "execution_count": null,
   "metadata": {
    "answer_type": "output",
    "id": "8c",
    "marks": 1,
    "pycharm": {
     "name": "#%%\n"
    },
    "tags": [
     "answer"
    ]
   },
   "outputs": [],
   "source": [
    "# answer:\n"
   ]
  },
  {
   "cell_type": "markdown",
   "metadata": {
    "id": "BWew6__8SBfY",
    "pycharm": {
     "name": "#%% md\n"
    }
   },
   "source": [
    "---\n",
    "## Q9\n",
    "\n",
    "Let's create a variable and assign an integer to it."
   ]
  },
  {
   "cell_type": "code",
   "execution_count": null,
   "metadata": {
    "id": "6-u_ZRHgSBfa",
    "pycharm": {
     "name": "#%%\n"
    }
   },
   "outputs": [],
   "source": [
    "b = 3"
   ]
  },
  {
   "cell_type": "markdown",
   "metadata": {
    "id": "uKWQqse-SBfb",
    "pycharm": {
     "name": "#%% md\n"
    }
   },
   "source": [
    "### Q9 a\n",
    "\n",
    "Use Python code to check the type of `b`."
   ]
  },
  {
   "cell_type": "code",
   "execution_count": null,
   "metadata": {
    "answer_type": "output",
    "id": "9a",
    "marks": 1,
    "pycharm": {
     "name": "#%%\n"
    },
    "tags": [
     "answer"
    ]
   },
   "outputs": [],
   "source": [
    "# answer:\n"
   ]
  },
  {
   "cell_type": "markdown",
   "metadata": {
    "id": "Z6aXi53LSBfe",
    "pycharm": {
     "name": "#%% md\n"
    }
   },
   "source": [
    "### Q9 b\n",
    "\n",
    "Now assign a string to `b`. What happens? Do you get an error? Try checking for the variable type."
   ]
  },
  {
   "cell_type": "code",
   "execution_count": null,
   "metadata": {
    "id": "B5CoTtoFSBff",
    "pycharm": {
     "name": "#%%\n"
    }
   },
   "outputs": [],
   "source": []
  },
  {
   "cell_type": "markdown",
   "metadata": {
    "id": "9b",
    "marks": 1,
    "pycharm": {
     "name": "#%% md\n"
    },
    "tags": [
     "answer"
    ]
   },
   "source": [
    "*answer:*\n"
   ]
  },
  {
   "cell_type": "markdown",
   "metadata": {
    "id": "oKL38WlOSBfh",
    "pycharm": {
     "name": "#%% md\n"
    }
   },
   "source": [
    "---\n",
    "## Q10"
   ]
  },
  {
   "cell_type": "markdown",
   "metadata": {
    "id": "-BNyEOaESBfi",
    "pycharm": {
     "name": "#%% md\n"
    }
   },
   "source": [
    "### Q10 a\n",
    "\n",
    "What is the value of `c` after these two statements:"
   ]
  },
  {
   "cell_type": "code",
   "execution_count": null,
   "metadata": {
    "id": "Huo3OKKESBfj",
    "pycharm": {
     "name": "#%%\n"
    }
   },
   "outputs": [],
   "source": [
    "c = 5\n",
    "c += 10"
   ]
  },
  {
   "cell_type": "code",
   "execution_count": null,
   "metadata": {
    "answer_type": "output",
    "id": "10a",
    "marks": 1,
    "pycharm": {
     "name": "#%%\n"
    },
    "tags": [
     "answer"
    ]
   },
   "outputs": [],
   "source": [
    "# answer:\n"
   ]
  },
  {
   "cell_type": "markdown",
   "metadata": {
    "id": "yFBD39EWSBfk",
    "pycharm": {
     "name": "#%% md\n"
    }
   },
   "source": [
    "## Q10 b\n",
    "\n",
    "Now try the following operators and explain what they do (experiment with different numbers to understand what's happening). *Do not write down the resultant value but an explanation of what each operator is doing.*"
   ]
  },
  {
   "cell_type": "code",
   "execution_count": null,
   "metadata": {
    "id": "Roxpi_zuSBfl",
    "pycharm": {
     "name": "#%%\n"
    }
   },
   "outputs": [],
   "source": [
    "c -= 2\n",
    "c"
   ]
  },
  {
   "cell_type": "markdown",
   "metadata": {
    "id": "10bi",
    "marks": 0.5,
    "pycharm": {
     "name": "#%% md\n"
    },
    "tags": [
     "answer"
    ]
   },
   "source": [
    "*answer:*\n"
   ]
  },
  {
   "cell_type": "code",
   "execution_count": null,
   "metadata": {
    "id": "b9gxFaxCSBfo",
    "pycharm": {
     "name": "#%%\n"
    }
   },
   "outputs": [],
   "source": [
    "c *= 2\n",
    "c"
   ]
  },
  {
   "cell_type": "markdown",
   "metadata": {
    "id": "10bii",
    "marks": 0.5,
    "pycharm": {
     "name": "#%% md\n"
    },
    "tags": [
     "answer"
    ]
   },
   "source": [
    "*answer:*\n"
   ]
  },
  {
   "cell_type": "code",
   "execution_count": null,
   "metadata": {
    "id": "CSCjc8GrSBfq",
    "pycharm": {
     "name": "#%%\n"
    }
   },
   "outputs": [],
   "source": [
    "c /= 2\n",
    "c"
   ]
  },
  {
   "cell_type": "markdown",
   "metadata": {
    "id": "10biii",
    "marks": 0.5,
    "pycharm": {
     "name": "#%% md\n"
    },
    "tags": [
     "answer"
    ]
   },
   "source": [
    "*answer:*\n"
   ]
  },
  {
   "cell_type": "markdown",
   "metadata": {
    "id": "NwPB_dMHSBfs",
    "pycharm": {
     "name": "#%% md\n"
    }
   },
   "source": [
    "---\n",
    "## Q11"
   ]
  },
  {
   "cell_type": "markdown",
   "metadata": {
    "id": "VSujQVrMSBft",
    "pycharm": {
     "name": "#%% md\n"
    }
   },
   "source": [
    "### Q11 a\n",
    "\n",
    "The following code results in an error:"
   ]
  },
  {
   "cell_type": "code",
   "execution_count": null,
   "metadata": {
    "id": "M2j2K43wSBft",
    "pycharm": {
     "name": "#%%\n"
    }
   },
   "outputs": [],
   "source": [
    "print('don't')"
   ]
  },
  {
   "cell_type": "markdown",
   "metadata": {
    "id": "WXM9skL0SBfu",
    "pycharm": {
     "name": "#%% md\n"
    }
   },
   "source": [
    "Is there a way that we can print the word `don't` without getting an error? *The answer should be a single `print` statement.*"
   ]
  },
  {
   "cell_type": "code",
   "execution_count": null,
   "metadata": {
    "id": "11a",
    "marks": 1,
    "pycharm": {
     "name": "#%%\n"
    },
    "tags": [
     "answer"
    ]
   },
   "outputs": [],
   "source": [
    "# answer:\n"
   ]
  },
  {
   "cell_type": "markdown",
   "metadata": {
    "id": "6J5-rEVeSBfv",
    "pycharm": {
     "name": "#%% md\n"
    }
   },
   "source": [
    "### Q11 b\n",
    "\n",
    "Print a string containing a new line, using a single `print` statement. The output should be:\n",
    "```\n",
    "hello\n",
    "world!\n",
    "```"
   ]
  },
  {
   "cell_type": "code",
   "execution_count": null,
   "metadata": {
    "id": "11b",
    "marks": 1,
    "pycharm": {
     "name": "#%%\n"
    },
    "tags": [
     "answer"
    ]
   },
   "outputs": [],
   "source": [
    "# answer:\n"
   ]
  },
  {
   "cell_type": "markdown",
   "metadata": {
    "id": "FKdE3dAYSBfw",
    "pycharm": {
     "name": "#%% md\n"
    }
   },
   "source": [
    "### Q11c\n",
    "\n",
    "Consider the following string:"
   ]
  },
  {
   "cell_type": "code",
   "execution_count": null,
   "metadata": {
    "id": "W3KZziUOSBfw",
    "pycharm": {
     "name": "#%%\n"
    }
   },
   "outputs": [],
   "source": [
    "s = \"Hello World!\""
   ]
  },
  {
   "cell_type": "markdown",
   "metadata": {
    "id": "Ilh-3Z9eSBfx",
    "pycharm": {
     "name": "#%% md\n"
    }
   },
   "source": [
    "Use Python's built-in function `len`, to determine the length of `s`."
   ]
  },
  {
   "cell_type": "code",
   "execution_count": null,
   "metadata": {
    "id": "11c",
    "marks": 1,
    "pycharm": {
     "name": "#%%\n"
    },
    "tags": [
     "answer"
    ]
   },
   "outputs": [],
   "source": [
    "# answer:\n"
   ]
  },
  {
   "cell_type": "markdown",
   "metadata": {
    "id": "ew6BXy-GSBfz",
    "pycharm": {
     "name": "#%% md\n"
    }
   },
   "source": [
    "### Q11 d\n",
    "\n",
    "Using `s` from the previous question, print the first character of `s`."
   ]
  },
  {
   "cell_type": "code",
   "execution_count": null,
   "metadata": {
    "id": "11d",
    "marks": 1,
    "pycharm": {
     "name": "#%%\n"
    },
    "tags": [
     "answer"
    ]
   },
   "outputs": [],
   "source": [
    "# answer:\n"
   ]
  },
  {
   "cell_type": "markdown",
   "metadata": {
    "id": "86pEpRHSSBf0",
    "pycharm": {
     "name": "#%% md\n"
    }
   },
   "source": [
    "### Q11 e\n",
    "How would you index the last character of the variable? _The solution must be generic for any string length_."
   ]
  },
  {
   "cell_type": "code",
   "execution_count": null,
   "metadata": {
    "id": "11e",
    "marks": 1,
    "pycharm": {
     "name": "#%%\n"
    },
    "tags": [
     "answer"
    ]
   },
   "outputs": [],
   "source": [
    "# answer:\n"
   ]
  },
  {
   "cell_type": "markdown",
   "metadata": {
    "id": "nyUfBIk5SBf1",
    "pycharm": {
     "name": "#%% md\n"
    }
   },
   "source": [
    "---\n",
    "## Q12\n",
    "\n",
    "You can use Python's slicing notation to get part of a string:"
   ]
  },
  {
   "cell_type": "code",
   "execution_count": null,
   "metadata": {
    "id": "t8fbgXraSBf1",
    "pycharm": {
     "name": "#%%\n"
    }
   },
   "outputs": [],
   "source": [
    "s = \"Hello World!\"\n",
    "s[:2]"
   ]
  },
  {
   "cell_type": "markdown",
   "metadata": {
    "id": "AyK1mKNtSBf2",
    "pycharm": {
     "name": "#%% md\n"
    }
   },
   "source": [
    "### Q12 a\n",
    "Why doesn't the statement `s[:2]` capture the character `'l'` which is in position `s[2]`?"
   ]
  },
  {
   "cell_type": "markdown",
   "metadata": {
    "id": "12a",
    "marks": 1,
    "pycharm": {
     "name": "#%% md\n"
    },
    "tags": [
     "answer"
    ]
   },
   "source": [
    "*answer:*\n"
   ]
  },
  {
   "cell_type": "markdown",
   "metadata": {
    "id": "toKfK_ZwSBf2",
    "pycharm": {
     "name": "#%% md\n"
    }
   },
   "source": [
    "### Q12 b\n",
    "\n",
    "What is the following statement equivalent to?"
   ]
  },
  {
   "cell_type": "code",
   "execution_count": null,
   "metadata": {
    "id": "EgHnDUG3SBf2",
    "pycharm": {
     "name": "#%%\n"
    }
   },
   "outputs": [],
   "source": [
    "s[:]"
   ]
  },
  {
   "cell_type": "markdown",
   "metadata": {
    "id": "12b",
    "marks": 1,
    "pycharm": {
     "name": "#%% md\n"
    },
    "tags": [
     "answer"
    ]
   },
   "source": [
    "*answer*:\n"
   ]
  },
  {
   "cell_type": "markdown",
   "metadata": {
    "id": "JoRLzr8TSBf3",
    "pycharm": {
     "name": "#%% md\n"
    }
   },
   "source": [
    "### Q12 c\n",
    "\n",
    "What is the following statement equivalent to?"
   ]
  },
  {
   "cell_type": "code",
   "execution_count": null,
   "metadata": {
    "id": "GK50SCaoSBf4",
    "pycharm": {
     "name": "#%%\n"
    }
   },
   "outputs": [],
   "source": [
    "s[-1]"
   ]
  },
  {
   "cell_type": "markdown",
   "metadata": {
    "id": "12c",
    "marks": 1,
    "pycharm": {
     "name": "#%% md\n"
    },
    "tags": [
     "answer"
    ]
   },
   "source": [
    "*answer:*\n"
   ]
  },
  {
   "cell_type": "markdown",
   "metadata": {
    "id": "C9NawOzlSBf5",
    "pycharm": {
     "name": "#%% md\n"
    }
   },
   "source": [
    "### Q12 d\n",
    "What does the following statement do?"
   ]
  },
  {
   "cell_type": "code",
   "execution_count": null,
   "metadata": {
    "id": "4o5sEjYHSBf5",
    "pycharm": {
     "name": "#%%\n"
    }
   },
   "outputs": [],
   "source": [
    "s[:-1]"
   ]
  },
  {
   "cell_type": "markdown",
   "metadata": {
    "id": "12d",
    "marks": 1,
    "pycharm": {
     "name": "#%% md\n"
    },
    "tags": [
     "answer"
    ]
   },
   "source": [
    "*answer:*\n"
   ]
  },
  {
   "cell_type": "markdown",
   "metadata": {
    "id": "4YDz_AZTSBf8",
    "pycharm": {
     "name": "#%% md\n"
    }
   },
   "source": [
    "### Q12 e\n",
    "\n",
    "Try out the following statements one by one:"
   ]
  },
  {
   "cell_type": "code",
   "execution_count": null,
   "metadata": {
    "id": "FDipW6dHSBf9",
    "pycharm": {
     "name": "#%%\n"
    }
   },
   "outputs": [],
   "source": [
    "s[::1]"
   ]
  },
  {
   "cell_type": "code",
   "execution_count": null,
   "metadata": {
    "id": "Xw58NnvNSBf9",
    "pycharm": {
     "name": "#%%\n"
    }
   },
   "outputs": [],
   "source": [
    "s[::2]"
   ]
  },
  {
   "cell_type": "markdown",
   "metadata": {
    "id": "PgojQL43SBf-",
    "pycharm": {
     "name": "#%% md\n"
    }
   },
   "source": [
    "What's happening?"
   ]
  },
  {
   "cell_type": "markdown",
   "metadata": {
    "id": "12e",
    "marks": 2,
    "pycharm": {
     "name": "#%% md\n"
    },
    "tags": [
     "answer"
    ]
   },
   "source": [
    "*answer:*\n"
   ]
  },
  {
   "cell_type": "markdown",
   "metadata": {
    "id": "0fHMpyTUSBf_",
    "pycharm": {
     "name": "#%% md\n"
    }
   },
   "source": [
    "### Q12 f\n",
    "\n",
    "What does the following statement do?"
   ]
  },
  {
   "cell_type": "code",
   "execution_count": null,
   "metadata": {
    "id": "BQVxgThaSBf_",
    "pycharm": {
     "name": "#%%\n"
    }
   },
   "outputs": [],
   "source": [
    "s[::-1]"
   ]
  },
  {
   "cell_type": "markdown",
   "metadata": {
    "id": "12f",
    "marks": 1,
    "pycharm": {
     "name": "#%% md\n"
    },
    "tags": [
     "answer"
    ]
   },
   "source": [
    "*answer:*\n"
   ]
  },
  {
   "cell_type": "markdown",
   "metadata": {
    "id": "oBirKb0JSBgA",
    "pycharm": {
     "name": "#%% md\n"
    }
   },
   "source": [
    "### Q12 g\n",
    "\n",
    "In Python, strings are __immutable__, i.e. once a string is created, the elements within it cannot be changed or replaced. If you try the following statement, you will get an error:"
   ]
  },
  {
   "cell_type": "code",
   "execution_count": null,
   "metadata": {
    "id": "IS6nV1uWSBgB",
    "pycharm": {
     "name": "#%%\n"
    }
   },
   "outputs": [],
   "source": [
    "s[0] = 'x'"
   ]
  },
  {
   "cell_type": "markdown",
   "metadata": {
    "id": "vV0gOpwESBgB",
    "pycharm": {
     "name": "#%% md\n"
    }
   },
   "source": [
    "However, we can still add to a string through concatenation. This is done using the `+` operator. How would you add `\"!!\"` at the end of `s`?"
   ]
  },
  {
   "cell_type": "code",
   "execution_count": null,
   "metadata": {
    "id": "12g",
    "marks": 1,
    "pycharm": {
     "name": "#%%\n"
    },
    "tags": [
     "answer"
    ]
   },
   "outputs": [],
   "source": [
    "# answer:\n"
   ]
  },
  {
   "cell_type": "markdown",
   "metadata": {
    "id": "ocxgYA7hSBgC",
    "pycharm": {
     "name": "#%% md\n"
    }
   },
   "source": [
    "### Q12 h\n",
    "\n",
    "Try changing the case of a string using Python's built-in functions `upper`, `lower` and `capitalize`."
   ]
  },
  {
   "cell_type": "code",
   "execution_count": null,
   "metadata": {
    "id": "12hi",
    "marks": 0.5,
    "pycharm": {
     "name": "#%%\n"
    },
    "tags": [
     "answer"
    ]
   },
   "outputs": [],
   "source": [
    "# answer:\n"
   ]
  },
  {
   "cell_type": "code",
   "execution_count": null,
   "metadata": {
    "id": "12hii",
    "marks": 0.5,
    "pycharm": {
     "name": "#%%\n"
    },
    "tags": [
     "answer"
    ]
   },
   "outputs": [],
   "source": [
    "# answer:\n"
   ]
  },
  {
   "cell_type": "code",
   "execution_count": null,
   "metadata": {
    "id": "12hiii",
    "marks": 0.5,
    "pycharm": {
     "name": "#%%\n"
    },
    "tags": [
     "answer"
    ]
   },
   "outputs": [],
   "source": [
    "# answer:\n"
   ]
  },
  {
   "cell_type": "markdown",
   "metadata": {
    "id": "3_EW--5FSBgE",
    "pycharm": {
     "name": "#%% md\n"
    }
   },
   "source": [
    "### Q12 i\n",
    "We can also split a string using the function `split`. If no parameter is provided to the function, it will split on the blank spaces:"
   ]
  },
  {
   "cell_type": "code",
   "execution_count": null,
   "metadata": {
    "id": "7JOfnjs8SBgE",
    "pycharm": {
     "name": "#%%\n"
    }
   },
   "outputs": [],
   "source": [
    "s.split()"
   ]
  },
  {
   "cell_type": "markdown",
   "metadata": {
    "id": "7ypOWkJwSBgF",
    "pycharm": {
     "name": "#%% md\n"
    }
   },
   "source": [
    "What happens if we provide a parameter to the function?"
   ]
  },
  {
   "cell_type": "code",
   "execution_count": null,
   "metadata": {
    "id": "R_tqpyTLSBgF",
    "pycharm": {
     "name": "#%%\n"
    }
   },
   "outputs": [],
   "source": [
    "s.split(\"l\")"
   ]
  },
  {
   "cell_type": "markdown",
   "metadata": {
    "id": "12i",
    "marks": 1,
    "pycharm": {
     "name": "#%% md\n"
    },
    "tags": [
     "answer"
    ]
   },
   "source": [
    "*answer:*\n"
   ]
  }
 ],
 "metadata": {
  "colab": {
   "provenance": []
  },
  "kernelspec": {
   "display_name": "Python 3 (ipykernel)",
   "language": "python",
   "name": "python3"
  },
  "language_info": {
   "codemirror_mode": {
    "name": "ipython",
    "version": 3
   },
   "file_extension": ".py",
   "mimetype": "text/x-python",
   "name": "python",
   "nbconvert_exporter": "python",
   "pygments_lexer": "ipython3",
   "version": "3.9.5"
  }
 },
 "nbformat": 4,
 "nbformat_minor": 4
}
